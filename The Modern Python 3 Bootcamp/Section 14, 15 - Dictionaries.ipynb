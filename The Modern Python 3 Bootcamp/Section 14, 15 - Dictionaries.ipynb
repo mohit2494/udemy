{
 "cells": [
  {
   "cell_type": "code",
   "execution_count": 1,
   "metadata": {},
   "outputs": [
    {
     "data": {
      "text/plain": [
       "'\\nDictionaries in python - https://realpython.com/python-dicts/\\n'"
      ]
     },
     "execution_count": 1,
     "metadata": {},
     "output_type": "execute_result"
    }
   ],
   "source": [
    "'''\n",
    "Dictionaries in python - https://realpython.com/python-dicts/\n",
    "Going first throught the real python tutorial and then the colt steele tutorial\n",
    "'''"
   ]
  },
  {
   "cell_type": "code",
   "execution_count": 6,
   "metadata": {},
   "outputs": [
    {
     "data": {
      "text/plain": [
       "{'colorado': 'rockies', 'boston': 'red sox'}"
      ]
     },
     "execution_count": 6,
     "metadata": {},
     "output_type": "execute_result"
    }
   ],
   "source": [
    "# Defining a dictionary\n",
    "'''\n",
    "Dictionaries are python's implementation of a data structure that is\n",
    "more generally known as an associative array. A dictionary consists of\n",
    "key-value pairs. Each key-value pair maps the key to its associated value.\n",
    "d = {\n",
    "    <key> : <value>,\n",
    "    <key> : <value>\n",
    "}\n",
    "'''\n",
    "# defining a dictionary\n",
    "\n",
    "\n",
    "'''\n",
    "You can also construct a dictionary with the built-in dict() function.\n",
    "The argument to dict() should be a sequence of key-value pairs.\n",
    "A list of tuples works well for this:\n",
    "d = dic([\n",
    "    (<key>, <value>),\n",
    "    (<key>, <value>)\n",
    "])\n",
    "'''\n",
    "\n",
    "\n",
    "'''\n",
    "If they key values are simple things, they can be specified as keyword arguments.\n",
    "so here is yet another way to define it\n",
    "'''\n",
    "d = dict(\n",
    "    colorado = 'rockies',\n",
    "    boston = 'red sox'\n",
    ")\n",
    "\n",
    "'''\n",
    "once you've defined a dictionary, you can display its contents, the\n",
    "same as you can do for a list. \n",
    "'''\n",
    "# shows type of data type\n",
    "type(d) # dict\n",
    "\n",
    "# prints the dictionary\n",
    "d\n",
    "\n",
    "'''\n",
    "The entries in the dictionary display in the order they were defined.\n",
    "But that is irrelevant when it comes to retrieving them. Dictionary\n",
    "elements by are not accessed by numerical index\n",
    "'''"
   ]
  },
  {
   "cell_type": "code",
   "execution_count": 3,
   "metadata": {},
   "outputs": [],
   "source": [
    "# Accessing dictionary values\n",
    "'''\n",
    "A value is retrieved from a dictionary by specifying its corresponding\n",
    "key in square brackets([]):\n",
    "'''"
   ]
  },
  {
   "cell_type": "code",
   "execution_count": 4,
   "metadata": {},
   "outputs": [],
   "source": [
    "# Dictionary keys vs List indices"
   ]
  },
  {
   "cell_type": "code",
   "execution_count": 5,
   "metadata": {},
   "outputs": [],
   "source": [
    "# Building a dictionary incrementally"
   ]
  },
  {
   "cell_type": "code",
   "execution_count": 6,
   "metadata": {},
   "outputs": [],
   "source": [
    "# Restrictions on Dictionary Keys"
   ]
  },
  {
   "cell_type": "code",
   "execution_count": 7,
   "metadata": {},
   "outputs": [],
   "source": [
    "# Operators and Built in Functions"
   ]
  },
  {
   "cell_type": "code",
   "execution_count": 8,
   "metadata": {},
   "outputs": [],
   "source": [
    "# Built in Dictionary Methods"
   ]
  },
  {
   "cell_type": "code",
   "execution_count": 9,
   "metadata": {},
   "outputs": [],
   "source": [
    "# ================================================================================="
   ]
  },
  {
   "cell_type": "code",
   "execution_count": 10,
   "metadata": {},
   "outputs": [],
   "source": [
    "# Intro to dictionaries"
   ]
  },
  {
   "cell_type": "code",
   "execution_count": 11,
   "metadata": {},
   "outputs": [],
   "source": [
    "# Accessing data in dictionaries"
   ]
  },
  {
   "cell_type": "code",
   "execution_count": 12,
   "metadata": {},
   "outputs": [],
   "source": [
    "# Iterating dictionaries"
   ]
  },
  {
   "cell_type": "code",
   "execution_count": 13,
   "metadata": {},
   "outputs": [],
   "source": [
    "# Using in with dictionaries"
   ]
  },
  {
   "cell_type": "code",
   "execution_count": 14,
   "metadata": {},
   "outputs": [],
   "source": [
    "# Dictionary methods : clear,copy fromkeys and get"
   ]
  },
  {
   "cell_type": "code",
   "execution_count": 15,
   "metadata": {},
   "outputs": [],
   "source": [
    "# Dictionary methods : pop, popitems, and update"
   ]
  },
  {
   "cell_type": "code",
   "execution_count": 16,
   "metadata": {},
   "outputs": [],
   "source": [
    "# Spotify playlist example"
   ]
  },
  {
   "cell_type": "code",
   "execution_count": 17,
   "metadata": {},
   "outputs": [],
   "source": [
    "# Dictionary comprehension"
   ]
  },
  {
   "cell_type": "code",
   "execution_count": 18,
   "metadata": {},
   "outputs": [],
   "source": [
    "# State Abbreviations Exercise"
   ]
  },
  {
   "cell_type": "code",
   "execution_count": 19,
   "metadata": {},
   "outputs": [],
   "source": [
    "# List to dictionary exercise"
   ]
  },
  {
   "cell_type": "code",
   "execution_count": 20,
   "metadata": {},
   "outputs": [],
   "source": [
    "# Vowels dict exercise"
   ]
  },
  {
   "cell_type": "code",
   "execution_count": 21,
   "metadata": {},
   "outputs": [],
   "source": [
    "# ASCII Codes Dictionary"
   ]
  },
  {
   "cell_type": "code",
   "execution_count": null,
   "metadata": {},
   "outputs": [],
   "source": []
  }
 ],
 "metadata": {
  "kernelspec": {
   "display_name": "Python 3",
   "language": "python",
   "name": "python3"
  },
  "language_info": {
   "codemirror_mode": {
    "name": "ipython",
    "version": 3
   },
   "file_extension": ".py",
   "mimetype": "text/x-python",
   "name": "python",
   "nbconvert_exporter": "python",
   "pygments_lexer": "ipython3",
   "version": "3.7.3"
  }
 },
 "nbformat": 4,
 "nbformat_minor": 2
}
