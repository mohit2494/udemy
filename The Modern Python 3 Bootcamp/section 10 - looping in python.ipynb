{
 "cells": [
  {
   "cell_type": "code",
   "execution_count": 1,
   "metadata": {},
   "outputs": [],
   "source": [
    "#Objectives \n",
    "\n",
    "# understand what loops are in python\n",
    "# learn what an iterable object is\n",
    "# use for and while loops to iterate over ranges and strings"
   ]
  },
  {
   "cell_type": "code",
   "execution_count": 6,
   "metadata": {},
   "outputs": [
    {
     "name": "stdout",
     "output_type": "stream",
     "text": [
      "1\n",
      "2\n",
      "3\n",
      "4\n",
      "5\n",
      "6\n",
      "7\n",
      "c\n",
      "o\n",
      "f\n",
      "f\n",
      "e\n",
      "e\n"
     ]
    }
   ],
   "source": [
    "# two types of loops - a for loop and a while loop\n",
    "\n",
    "#for item in iterable_object:\n",
    "    # do something with the item\n",
    "\n",
    "\n",
    "#    An iterable object is some kind of collection of items for instance :\n",
    "#    a list of numbers, a string of characters, a range etc.\n",
    "    \n",
    "#    item is a new variable that can be called whatever you want:\n",
    "    \n",
    "#    item references that current position of our iterator within the iterable:\n",
    "#   It will iterate through every item in the collection.\n",
    "\n",
    "\n",
    "# for loops with ranges\n",
    "for number in range(1,8):\n",
    "    print(number)\n",
    "\n",
    "    \n",
    "myString = \"coffee\"\n",
    "for char in myString:\n",
    "    print(char) "
   ]
  },
  {
   "cell_type": "code",
   "execution_count": 13,
   "metadata": {},
   "outputs": [
    {
     "name": "stdout",
     "output_type": "stream",
     "text": [
      "1\n",
      "3\n",
      "5\n",
      "7\n",
      "9\n"
     ]
    }
   ],
   "source": [
    "#exploring ranges in depth\n",
    "\n",
    "# range(7) gives you integers from 0 through 6\n",
    "# range(1,8) gives you integers from 1 to 7\n",
    "# range(1,10,2) will give you odds from 1 to 10\n",
    "# range(7,0,-1) will give you integers from 7 to 1\n",
    "\n",
    "for num in range(1,10,2):\n",
    "    print(num)"
   ]
  },
  {
   "cell_type": "code",
   "execution_count": 15,
   "metadata": {},
   "outputs": [
    {
     "name": "stdout",
     "output_type": "stream",
     "text": [
      "How many times do I have to tell you?10\n",
      "time 0 CLEAN UP YOUR ROOM\n",
      "time 1 CLEAN UP YOUR ROOM\n",
      "time 2 CLEAN UP YOUR ROOM\n",
      "time 3 CLEAN UP YOUR ROOM\n",
      "time 4 CLEAN UP YOUR ROOM\n",
      "time 5 CLEAN UP YOUR ROOM\n",
      "time 6 CLEAN UP YOUR ROOM\n",
      "time 7 CLEAN UP YOUR ROOM\n",
      "time 8 CLEAN UP YOUR ROOM\n",
      "time 9 CLEAN UP YOUR ROOM\n"
     ]
    }
   ],
   "source": [
    "#normal loop\n",
    "times = input(\"How many times do I have to tell you?\")\n",
    "times = int(times)\n",
    "\n",
    "for time in range(times):\n",
    "    print(f\"time {time} CLEAN UP YOUR ROOM\")"
   ]
  },
  {
   "cell_type": "code",
   "execution_count": 17,
   "metadata": {},
   "outputs": [
    {
     "name": "stdout",
     "output_type": "stream",
     "text": [
      "1 is odd\n",
      "2 is even\n",
      "3 is odd\n",
      "4 is unlucky\n",
      "5 is odd\n",
      "6 is even\n",
      "7 is odd\n",
      "8 is even\n",
      "9 is odd\n",
      "10 is even\n",
      "11 is odd\n",
      "12 is even\n",
      "13 is unlucky\n",
      "14 is even\n",
      "15 is odd\n",
      "16 is even\n",
      "17 is odd\n",
      "18 is even\n",
      "19 is odd\n",
      "20 is even\n"
     ]
    }
   ],
   "source": [
    "# simple program\n",
    "for num in range(1,21):\n",
    "    if num == 4 or num == 13:\n",
    "        state = \"unlucky\"\n",
    "    elif num % 2 == 0:\n",
    "        state = \"even\"\n",
    "    else:\n",
    "        state = \"odd\"\n",
    "    print(f\"{num} is {state}\")"
   ]
  },
  {
   "cell_type": "code",
   "execution_count": null,
   "metadata": {},
   "outputs": [],
   "source": [
    "# while loops\n",
    "while boolean:\n",
    "    # keep running\n",
    "\n",
    "# while loop continues to execute while a certain condition is truthy, and \n",
    "# will end when they become falsy\n",
    "user_response = None\n",
    "while user_response != \"please\"\n",
    "    user_response = input('Ah! , you didn\\'t say that magic word')\n",
    "    "
   ]
  },
  {
   "cell_type": "code",
   "execution_count": 19,
   "metadata": {},
   "outputs": [
    {
     "name": "stdout",
     "output_type": "stream",
     "text": [
      "😄\n"
     ]
    }
   ],
   "source": [
    "print('\\U0001f604')"
   ]
  },
  {
   "cell_type": "code",
   "execution_count": 20,
   "metadata": {},
   "outputs": [
    {
     "name": "stdout",
     "output_type": "stream",
     "text": [
      "say somethingstop copying me\n",
      "UGH FINE YOU WIN, BROTHER!\n"
     ]
    }
   ],
   "source": [
    "msg = input(\"say something\")\n",
    "while msg != 'stop copying me':\n",
    "    print(msg)\n",
    "    msg = input()\n",
    "print(\"UGH FINE YOU WIN, BROTHER!\")"
   ]
  },
  {
   "cell_type": "code",
   "execution_count": 23,
   "metadata": {},
   "outputs": [
    {
     "name": "stdout",
     "output_type": "stream",
     "text": [
      "How many times do I have to tell you?10\n",
      "Do you even listen to me anymore?\n"
     ]
    }
   ],
   "source": [
    "# the break keyword\n",
    "# break keyword is used to come out of a for, while loop:\n",
    "\n",
    "times = input('How many times do I have to tell you?')\n",
    "times = int(times)\n",
    "for time in range(times):\n",
    "    if (time >=3 ):\n",
    "        print('Do you even listen to me anymore?')\n",
    "        break"
   ]
  },
  {
   "cell_type": "code",
   "execution_count": 24,
   "metadata": {},
   "outputs": [
    {
     "name": "stdout",
     "output_type": "stream",
     "text": [
      "Player Score: 0 Computer Score: 0\n",
      "...rock...\n",
      "...paper...\n",
      "...scissors...\n",
      "(Enter your choice): rock\n",
      "The computer plays: paper\n",
      "Computer wins :( \n",
      "Player Score: 0 Computer Score: 1\n",
      "...rock...\n",
      "...paper...\n",
      "...scissors...\n",
      "(Enter your choice): rock\n",
      "The computer plays: paper\n",
      "Computer wins :( \n",
      "Player Score: 0 Computer Score: 2\n",
      "...rock...\n",
      "...paper...\n",
      "...scissors...\n",
      "(Enter your choice): rock\n",
      "The computer plays: paper\n",
      "Computer wins :( \n",
      "OH NO :( THE COMPUTER WON...\n"
     ]
    }
   ],
   "source": [
    "# rock paper and scissors game with improvement\n",
    "from random import randint\n",
    "player_wins = 0 \n",
    "computer_wins = 0\n",
    "winning_score = 3\n",
    "\n",
    "while player_wins < winning_score and computer_wins < winning_score:\n",
    "    print(f\"Player Score: {player_wins} Computer Score: {computer_wins}\")\n",
    "    print(\"...rock...\")\n",
    "    print(\"...paper...\")\n",
    "    print(\"...scissors...\")\n",
    "\n",
    "    player = input(\"(Enter your choice): \").lower()\n",
    "    if player == \"quit\" or player == \"q\":\n",
    "        break\n",
    "    random_num = randint(0, 2)\n",
    "    if (random_num == 0):\n",
    "        computer = \"rock\"\n",
    "    elif (random_num == 1):\n",
    "        computer = \"paper\"\n",
    "    else:\n",
    "        computer = \"scissors\"\n",
    "\n",
    "    print(f\"The computer plays: {computer}\")\n",
    "\n",
    "    if player == computer:\n",
    "        print(\"It's a tie!\")\n",
    "    elif player == \"rock\":\n",
    "        if computer == \"paper\":\n",
    "            print(\"Computer wins :( \")\n",
    "            computer_wins += 1\n",
    "        else:\n",
    "            print(\"Player wins!\")\n",
    "            player_wins += 1\n",
    "    elif player == \"paper\":\n",
    "        if computer == \"rock\":\n",
    "            print(\"Player win!\")\n",
    "            player_wins += 1\n",
    "        else:\n",
    "            print(\"Computer wins!\")\n",
    "            computer_wins += 1\n",
    "    elif (player == \"scissors\"):\n",
    "        if (computer == \"rock\"):\n",
    "            print(\"Computer wins!\")\n",
    "            computer_wins += 1\n",
    "        else:\n",
    "            print(\"You win!\")\n",
    "            player_wins += 1\n",
    "    else:\n",
    "        print(\"Please enter a valid move!\")\n",
    "\n",
    "# Decide who won?\n",
    "if player_wins > computer_wins:\n",
    "    print(\"CONGRATS, YOU WON!\")\n",
    "elif player_wins == computer_wins:\n",
    "    print(\"IT'S A TIE\")\n",
    "else: \n",
    "    print(\"OH NO :( THE COMPUTER WON...\")\n"
   ]
  },
  {
   "cell_type": "code",
   "execution_count": 25,
   "metadata": {},
   "outputs": [
    {
     "name": "stdout",
     "output_type": "stream",
     "text": [
      "Pick a number from 1 to 10: 10\n",
      "YOU WON!!!!\n",
      "Do you want to play again? (y/n) n\n",
      "Thank you for playing!\n"
     ]
    }
   ],
   "source": [
    "# a simple guessing game\n",
    "import random\n",
    "\n",
    "random_number = random.randint(1,10)  # numbers 1 - 10\n",
    "guess = None\n",
    "\n",
    "while True:\n",
    "\tguess = input(\"Pick a number from 1 to 10: \")\n",
    "\tguess = int(guess)\n",
    "\tif guess < random_number:\n",
    "\t\tprint(\"TOO LOW!\")\n",
    "\telif guess > random_number:\n",
    "\t\tprint(\"TOO HIGH!\")\n",
    "\telse:\n",
    "\t\tprint(\"YOU WON!!!!\")\n",
    "\t\tplay_again = input(\"Do you want to play again? (y/n) \")\n",
    "\t\tif play_again == \"y\":\n",
    "\t\t\trandom_number = random.randint(1,10)  # numbers 1 - 10\n",
    "\t\t\tguess = None\n",
    "\t\telse:\n",
    "\t\t\tprint(\"Thank you for playing!\")\n",
    "\t\t\tbreak"
   ]
  },
  {
   "cell_type": "code",
   "execution_count": null,
   "metadata": {},
   "outputs": [],
   "source": []
  }
 ],
 "metadata": {
  "kernelspec": {
   "display_name": "Python 3",
   "language": "python",
   "name": "python3"
  },
  "language_info": {
   "codemirror_mode": {
    "name": "ipython",
    "version": 3
   },
   "file_extension": ".py",
   "mimetype": "text/x-python",
   "name": "python",
   "nbconvert_exporter": "python",
   "pygments_lexer": "ipython3",
   "version": "3.7.1"
  }
 },
 "nbformat": 4,
 "nbformat_minor": 2
}
