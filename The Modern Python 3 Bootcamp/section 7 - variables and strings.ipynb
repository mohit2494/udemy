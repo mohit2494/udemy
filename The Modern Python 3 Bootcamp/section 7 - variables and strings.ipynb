{
 "cells": [
  {
   "cell_type": "code",
   "execution_count": 1,
   "metadata": {},
   "outputs": [],
   "source": [
    "# Section 7\n",
    "# Variables and data types - mostly strings\n",
    "\n",
    "# understand how to assign and use variables\n",
    "# python naming conventions\n",
    "# different data types in python\n",
    "# why dynamically typed language\n",
    "# how to convert data types\n",
    "# a simple user input program\n"
   ]
  },
  {
   "cell_type": "code",
   "execution_count": 4,
   "metadata": {},
   "outputs": [],
   "source": [
    "# Introduction to variables - something that holds values\n",
    "holdMyString = 'I am holding your value'\n",
    "holdMyNumber = 20\n",
    "\n",
    "# see bool in python in 'True'\n",
    "holdMyBool = True\n",
    "\n",
    "# assigning all at once\n",
    "all, at, once = 5, 10 , 15"
   ]
  },
  {
   "cell_type": "code",
   "execution_count": 6,
   "metadata": {},
   "outputs": [
    {
     "ename": "SyntaxError",
     "evalue": "invalid syntax (<ipython-input-6-e1bfa65d6318>, line 19)",
     "output_type": "error",
     "traceback": [
      "\u001b[1;36m  File \u001b[1;32m\"<ipython-input-6-e1bfa65d6318>\"\u001b[1;36m, line \u001b[1;32m19\u001b[0m\n\u001b[1;33m    34python = 'trying to initialize a variable' #gives error\u001b[0m\n\u001b[1;37m           ^\u001b[0m\n\u001b[1;31mSyntaxError\u001b[0m\u001b[1;31m:\u001b[0m invalid syntax\n"
     ]
    }
   ],
   "source": [
    "# naming restrictions and conventions\n",
    "\n",
    "# ---\n",
    "# should start with [letter, underscore]\n",
    "# the rest of the name must consist of [letters, numbers, underscores]\n",
    "# names are case-sensitive - CATS != Cats\n",
    "\n",
    "# ---\n",
    "# convention in python is to use snake_case (underscores between words)\n",
    "# most variables should be lower case\n",
    "# constants are capitals with constant case - CAPITAL_SNAKE_CASE = 'CONSTANT'\n",
    "# UpperCamelCase is usually referred to class\n",
    "\n",
    "# ---\n",
    "# important : variables that start and end with two underscores (called \"dunder\" for double underscore)\n",
    "# such variables are private and are left alone to a class\n",
    "__no_touchy__ = '1'\n",
    "\n",
    "34python = 'trying to initialize a variable' #gives error"
   ]
  },
  {
   "cell_type": "code",
   "execution_count": 15,
   "metadata": {},
   "outputs": [
    {
     "data": {
      "text/plain": [
       "dict"
      ]
     },
     "execution_count": 15,
     "metadata": {},
     "output_type": "execute_result"
    }
   ],
   "source": [
    "# data types\n",
    "# ----------\n",
    "\n",
    "# the most commonly used data types are : \n",
    "# bool - True or False\n",
    "# int - \n",
    "# string\n",
    "# list \n",
    "# dict\n",
    "\n",
    "game_over = False\n",
    "is_this_fine = True\n",
    "number_of_fingers = 10\n",
    "my_name_is = 'slim shady'\n",
    "\n",
    "# use type() to get the type of the variable\n",
    "type(game_over)\n",
    "type(is_this_fine)\n",
    "type(number_of_fingers)\n",
    "type(my_name_is)\n",
    "\n",
    "# list\n",
    "my_list = [1,2,3]\n",
    "my_diff_list = [\"a\",\"b\",\"c\"]\n",
    "\n",
    "# dictionary\n",
    "dictionary = {\n",
    "    \"firstName\" : \"Slim\",\n",
    "    \"lastName\" : \"Shady\"\n",
    "}\n",
    "type(dictionary)"
   ]
  },
  {
   "cell_type": "code",
   "execution_count": 16,
   "metadata": {},
   "outputs": [
    {
     "name": "stdout",
     "output_type": "stream",
     "text": [
      "True\n",
      "yo!\n",
      "None\n",
      "3.142857142857143\n"
     ]
    }
   ],
   "source": [
    "# what the heck is dynamic typing\n",
    "# python is really flexible in terms of reassigning variables\n",
    "# with different data types\n",
    "# languages like c++ are statically typed and don't allow reassigning\n",
    "# variables with a different data type\n",
    "\n",
    "something = True\n",
    "print(something)\n",
    "\n",
    "something = \"yo!\"\n",
    "print(something)\n",
    "\n",
    "# None is a special value in python\n",
    "something = None\n",
    "print(something)\n",
    "\n",
    "something = 22/7\n",
    "print(something)\n"
   ]
  },
  {
   "cell_type": "code",
   "execution_count": 20,
   "metadata": {},
   "outputs": [
    {
     "name": "stdout",
     "output_type": "stream",
     "text": [
      "<class 'NoneType'>\n",
      "{'name': 'Daisy', 'age': 30, 'children': None}\n"
     ]
    }
   ],
   "source": [
    "# The special value None\n",
    "# None is python's version of Null\n",
    "\n",
    "name = \"Daisy\"\n",
    "age = 30\n",
    "children = None\n",
    "\n",
    "person = {\n",
    "    'name' : name,\n",
    "    'age' : age, \n",
    "    'children' : children\n",
    "}\n",
    "\n",
    "print(type(children))\n",
    "print(person)"
   ]
  },
  {
   "cell_type": "code",
   "execution_count": 25,
   "metadata": {},
   "outputs": [
    {
     "name": "stdout",
     "output_type": "stream",
     "text": [
      "slim shady\n",
      "slim shady\n",
      "I am trying to \"test my string\"!\n",
      "I am trying to 'test my string'!\n"
     ]
    }
   ],
   "source": [
    "# Double vs Single Quotes\n",
    "# string literals can be declared with both\n",
    "# single quotes and double quotes\n",
    "\n",
    "rapper = \"slim shady\"\n",
    "print(rapper)\n",
    "\n",
    "rapper = 'slim shady'\n",
    "print(rapper)\n",
    "\n",
    "trying_my_string = 'I am trying to \"test my string\"!'\n",
    "print(trying_my_string)\n",
    "\n",
    "trying_my_string = \"I am trying to 'test my string'!\"\n",
    "print(trying_my_string)"
   ]
  },
  {
   "cell_type": "code",
   "execution_count": 26,
   "metadata": {},
   "outputs": [
    {
     "name": "stdout",
     "output_type": "stream",
     "text": [
      "he lauged \"ha ha\"\n"
     ]
    }
   ],
   "source": [
    "# String escape sequences\n",
    "# there are various escape sequences\n",
    "# one example is \n",
    "\n",
    "str = \"he lauged \\\"ha ha\\\"\"\n",
    "print(str)"
   ]
  },
  {
   "cell_type": "code",
   "execution_count": 32,
   "metadata": {},
   "outputs": [
    {
     "name": "stdout",
     "output_type": "stream",
     "text": [
      "concatenating  this string!\n",
      "concatenating this string!\n"
     ]
    },
    {
     "ename": "TypeError",
     "evalue": "unsupported operand type(s) for +: 'int' and 'str'",
     "output_type": "error",
     "traceback": [
      "\u001b[1;31m---------------------------------------------------------------------------\u001b[0m",
      "\u001b[1;31mTypeError\u001b[0m                                 Traceback (most recent call last)",
      "\u001b[1;32m<ipython-input-32-ae910edb1482>\u001b[0m in \u001b[0;36m<module>\u001b[1;34m\u001b[0m\n\u001b[0;32m      8\u001b[0m \u001b[0mprint\u001b[0m\u001b[1;33m(\u001b[0m\u001b[0mstr\u001b[0m\u001b[1;33m)\u001b[0m\u001b[1;33m\u001b[0m\u001b[1;33m\u001b[0m\u001b[0m\n\u001b[0;32m      9\u001b[0m \u001b[1;33m\u001b[0m\u001b[0m\n\u001b[1;32m---> 10\u001b[1;33m \u001b[0mstr\u001b[0m \u001b[1;33m=\u001b[0m \u001b[1;36m8\u001b[0m \u001b[1;33m+\u001b[0m\u001b[1;34m'string'\u001b[0m \u001b[1;31m# we'll have to fix this\u001b[0m\u001b[1;33m\u001b[0m\u001b[1;33m\u001b[0m\u001b[0m\n\u001b[0m\u001b[0;32m     11\u001b[0m \u001b[0mprint\u001b[0m\u001b[1;33m(\u001b[0m\u001b[0mstr\u001b[0m\u001b[1;33m)\u001b[0m\u001b[1;33m\u001b[0m\u001b[1;33m\u001b[0m\u001b[0m\n",
      "\u001b[1;31mTypeError\u001b[0m: unsupported operand type(s) for +: 'int' and 'str'"
     ]
    }
   ],
   "source": [
    "# String concatenation uses + operator\n",
    "str = 'concatenating '+ ' ' +'this string!'\n",
    "print(str)\n",
    "\n",
    "str = 'concatenating'\n",
    "str += ' '\n",
    "str += 'this string!'\n",
    "print(str)\n",
    "\n",
    "str = 8 +'string' # we'll have to fix this\n",
    "print(str)"
   ]
  },
  {
   "cell_type": "code",
   "execution_count": 40,
   "metadata": {},
   "outputs": [
    {
     "name": "stdout",
     "output_type": "stream",
     "text": [
      "I've told you 10 times already!\n",
      "your guess of 8 was incorrect!\n",
      "I've told you 10 times already!\n",
      "I've told you 10 times already!\n"
     ]
    }
   ],
   "source": [
    "# String formatting\n",
    "# The new way (new in python 3.6+) => F-Strings\n",
    "x = 10 \n",
    "formatted = f\"I've told you {x} times already!\";\n",
    "print(formatted)\n",
    "\n",
    "guess = 8\n",
    "print(f\"your guess of {guess} was incorrect!\");\n",
    "\n",
    "# another way of formatting strings is \n",
    "# for python version 2->3.6\n",
    "x = 10\n",
    "formatted = \"I've told you {} times already!\".format(x)\n",
    "print(formatted)\n",
    "\n",
    "formatted = \"I've told you %d times already!\" %(x)\n",
    "print(formatted)"
   ]
  },
  {
   "cell_type": "code",
   "execution_count": 46,
   "metadata": {},
   "outputs": [
    {
     "name": "stdout",
     "output_type": "stream",
     "text": [
      "m\n",
      "t\n",
      "it\n",
      "hit\n"
     ]
    }
   ],
   "source": [
    "# Strings and indexes\n",
    "name = \"mohit\"\n",
    "#first index\n",
    "print(name[0])\n",
    "# last index\n",
    "print(name[-1])\n",
    "# complete string starting from 3rd letter\n",
    "print(name[3:])\n",
    "# 3 letters from the end\n",
    "print(name[-3:])"
   ]
  },
  {
   "cell_type": "code",
   "execution_count": 50,
   "metadata": {},
   "outputs": [
    {
     "name": "stdout",
     "output_type": "stream",
     "text": [
      "1243\n"
     ]
    },
    {
     "ename": "TypeError",
     "evalue": "'str' object is not callable",
     "output_type": "error",
     "traceback": [
      "\u001b[1;31m---------------------------------------------------------------------------\u001b[0m",
      "\u001b[1;31mTypeError\u001b[0m                                 Traceback (most recent call last)",
      "\u001b[1;32m<ipython-input-50-f261b7591318>\u001b[0m in \u001b[0;36m<module>\u001b[1;34m\u001b[0m\n\u001b[0;32m      8\u001b[0m \u001b[1;33m\u001b[0m\u001b[0m\n\u001b[0;32m      9\u001b[0m \u001b[1;31m# to string\u001b[0m\u001b[1;33m\u001b[0m\u001b[1;33m\u001b[0m\u001b[1;33m\u001b[0m\u001b[0m\n\u001b[1;32m---> 10\u001b[1;33m \u001b[0mstring\u001b[0m \u001b[1;33m=\u001b[0m \u001b[0mstr\u001b[0m\u001b[1;33m(\u001b[0m\u001b[0mint\u001b[0m\u001b[1;33m(\u001b[0m\u001b[0mfloatt\u001b[0m\u001b[1;33m)\u001b[0m\u001b[1;33m)\u001b[0m\u001b[1;33m\u001b[0m\u001b[1;33m\u001b[0m\u001b[0m\n\u001b[0m\u001b[0;32m     11\u001b[0m \u001b[0mprint\u001b[0m\u001b[1;33m(\u001b[0m\u001b[0mtype\u001b[0m\u001b[1;33m(\u001b[0m\u001b[0mstring\u001b[0m\u001b[1;33m)\u001b[0m\u001b[1;33m)\u001b[0m\u001b[1;33m\u001b[0m\u001b[1;33m\u001b[0m\u001b[0m\n",
      "\u001b[1;31mTypeError\u001b[0m: 'str' object is not callable"
     ]
    }
   ],
   "source": [
    "# Converting data types\n",
    "global str\n",
    "# float to dec\n",
    "floatt = 1243.56554565\n",
    "integer = int(floatt)\n",
    "print(integer)\n",
    "type(integer)\n",
    "\n",
    "# to string\n",
    "string = str(int(floatt))\n",
    "print(type(string))\n"
   ]
  },
  {
   "cell_type": "code",
   "execution_count": 52,
   "metadata": {},
   "outputs": [
    {
     "name": "stdout",
     "output_type": "stream",
     "text": [
      " How many kilometers did you cycle today?\n",
      "50\n",
      "Ok that is approximately 31.07 miles\n"
     ]
    }
   ],
   "source": [
    "# simple mileage converter program\n",
    "KMS_TO_MILES = 1.60934\n",
    "print(\" How many kilometers did you cycle today?\")\n",
    "# input is the function to take the input in\n",
    "kms = input()\n",
    "miles = float(kms)/KMS_TO_MILES\n",
    "miles = round(miles,2)\n",
    "print(f\"Ok that is approximately {miles} miles\")"
   ]
  }
 ],
 "metadata": {
  "kernelspec": {
   "display_name": "Python 3",
   "language": "python",
   "name": "python3"
  },
  "language_info": {
   "codemirror_mode": {
    "name": "ipython",
    "version": 3
   },
   "file_extension": ".py",
   "mimetype": "text/x-python",
   "name": "python",
   "nbconvert_exporter": "python",
   "pygments_lexer": "ipython3",
   "version": "3.7.1"
  }
 },
 "nbformat": 4,
 "nbformat_minor": 2
}
