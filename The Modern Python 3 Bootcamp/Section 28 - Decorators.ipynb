{
 "cells": [
  {
   "cell_type": "code",
   "execution_count": 2,
   "metadata": {},
   "outputs": [
    {
     "data": {
      "text/plain": [
       "'\\nIn mathematics and computer science, a higher-order function is a function that does at least one of the following :\\n1. takes one or more functions as arguments (also known as procedural parameters)\\n2. returns a function as its result\\n\\nAll other functions are first order functions. In mathematics higher-order functions are also termed as operators or functionals.\\n\\nThe differential operator in calculus is a common example, since it maps a function to its derivative. \\n'"
      ]
     },
     "execution_count": 2,
     "metadata": {},
     "output_type": "execute_result"
    }
   ],
   "source": [
    "# higher order functions\n",
    "'''\n",
    "In mathematics and computer science, a higher-order function is a function that does at least one of the following :\n",
    "1. takes one or more functions as arguments (also known as procedural parameters)\n",
    "2. returns a function as its result\n",
    "\n",
    "All other functions are first order functions. In mathematics higher-order functions are also termed as operators or functionals.\n",
    "\n",
    "The differential operator in calculus is a common example, since it maps a function to its derivative. \n",
    "'''"
   ]
  },
  {
   "cell_type": "code",
   "execution_count": 3,
   "metadata": {},
   "outputs": [
    {
     "data": {
      "text/plain": [
       "'\\nDecorators provide a simple syntax for calling higher-order functions.\\n\\nDecorator is a function that takes another function and extends the behavior of the latter function without explicitly modifying it.\\n\\nprimer on python decorators : https://github.com/realpython/materials/tree/master/primer-on-python-decorators\\n'"
      ]
     },
     "execution_count": 3,
     "metadata": {},
     "output_type": "execute_result"
    }
   ],
   "source": [
    "# Decorators\n",
    "'''\n",
    "Decorators provide a simple syntax for calling higher-order functions.\n",
    "\n",
    "Decorator is a function that takes another function and extends the behavior of the latter function without explicitly modifying it.\n",
    "\n",
    "primer on python decorators : https://github.com/realpython/materials/tree/master/primer-on-python-decorators\n",
    "'''"
   ]
  },
  {
   "cell_type": "code",
   "execution_count": 4,
   "metadata": {},
   "outputs": [
    {
     "data": {
      "text/plain": [
       "\"\\nIn general, functions in python may have side effects rather than just turning an input into an output.\\nThe print function is a basic example of this: it returns None while having the side effect of outputting something to \\nthe console.\\n\\nIn functional programming, you work(almost) only with pure functions without side effects. While not a purely functional language,\\nPython supports many of the functional programming concepts, including functions as first class objects.\\n\\n\\nWhat are first class objects ? https://stackoverflow.com/questions/245192/what-are-first-class-objects\\nIn short, it means there are no restrictions on the object's use. It's the same as any other object.\\nA first class object is an entity that can be dynamically created, destroyed, passed to a function,\\nreturned as a value, and have all rights as other variables that the programming language might have.\\n\\n\\n\""
      ]
     },
     "execution_count": 4,
     "metadata": {},
     "output_type": "execute_result"
    }
   ],
   "source": [
    "'''\n",
    "In general, functions in python may have side effects rather than just turning an input into an output.\n",
    "The print function is a basic example of this: it returns None while having the side effect of outputting something to \n",
    "the console.\n",
    "\n",
    "In functional programming, you work(almost) only with pure functions without side effects. While not a purely functional language,\n",
    "Python supports many of the functional programming concepts, including functions as first class objects.\n",
    "\n",
    "\n",
    "What are first class objects ? https://stackoverflow.com/questions/245192/what-are-first-class-objects\n",
    "In short, it means there are no restrictions on the object's use. It's the same as any other object.\n",
    "A first class object is an entity that can be dynamically created, destroyed, passed to a function,\n",
    "returned as a value, and have all rights as other variables that the programming language might have.\n",
    "\n",
    "\n",
    "'''"
   ]
  },
  {
   "cell_type": "code",
   "execution_count": 7,
   "metadata": {},
   "outputs": [
    {
     "data": {
      "text/plain": [
       "'Yo Bob, together we are the awesomest!'"
      ]
     },
     "execution_count": 7,
     "metadata": {},
     "output_type": "execute_result"
    }
   ],
   "source": [
    "# First class objects\n",
    "'''\n",
    "In python, functions are first class objects. This means that functions can be passed  around and used as arguments.\n",
    "Lets try a simple example\n",
    "\n",
    "'''\n",
    "def say_hello(name):\n",
    "    return f\"Hello {name}\"\n",
    "def be_awesome(name):\n",
    "    return f\"Yo {name}, together we are the awesomest!\"\n",
    "def greet_bob(greater_func):\n",
    "    return greater_func(\"Bob\")\n",
    "\n",
    "# lets try using these functions as arguments\n",
    "greet_bob(say_hello)\n",
    "greet_bob(be_awesome)"
   ]
  },
  {
   "cell_type": "code",
   "execution_count": 8,
   "metadata": {},
   "outputs": [
    {
     "name": "stdout",
     "output_type": "stream",
     "text": [
      "printing from the parent function\n"
     ]
    },
    {
     "data": {
      "text/plain": [
       "'\\n\\n'"
      ]
     },
     "execution_count": 8,
     "metadata": {},
     "output_type": "execute_result"
    }
   ],
   "source": [
    "# Inner functions\n",
    "'''\n",
    "Its possible to define functions inside other functions. Such functions are called inner functions.\n",
    "Here's an example of a function with two inner functions.\n",
    "\n",
    "'''\n",
    "def parent():\n",
    "    print(\"printing from the parent function\")\n",
    "    \n",
    "    def first_child():\n",
    "        print(\"printing from the first child\")\n",
    "    def second_child():\n",
    "        print(\"printing fromt the second child\")\n",
    "parent()\n",
    "'''\n",
    "Note that the order in which the inner functions are defined does not matter. Like with any other functions, the printing\n",
    "only happen when the inner functions are executed.\n",
    "Furthermore, the inner functions are not defined until the parent function is called. They are locally scoped to parent():\n",
    "they only exist inside the parent() function as local variables.\n",
    "Whenever you call parent(), the inner functions first_child() and second_child() are also called. But because of their local\n",
    "scope, they aren't available outside of the parent() function.\n",
    "'''"
   ]
  },
  {
   "cell_type": "code",
   "execution_count": 12,
   "metadata": {},
   "outputs": [
    {
     "data": {
      "text/plain": [
       "'Hi, I am Emma'"
      ]
     },
     "execution_count": 12,
     "metadata": {},
     "output_type": "execute_result"
    }
   ],
   "source": [
    "# Returning functions from functions\n",
    "'''\n",
    "Python also allows you to use functions as return values because functions are first class objects. The following\n",
    "example returns one of the inner functions from the outer parent() function\n",
    "'''\n",
    "def parent(num):\n",
    "    def first_child():\n",
    "        return \"Hi, I am Emma\"\n",
    "    def second_child():\n",
    "        return \"Call me Liam\"\n",
    "    if num == 1:\n",
    "        return first_child\n",
    "    else:\n",
    "        return second_child\n",
    "parent(1)\n",
    "'''\n",
    "Note that you are returning the first_child without parantheses. Recall that this means that you are returning reference\n",
    "to the function first_child. In contrast, first_child() with parantheses refers to the result of evaluating the function.\n",
    "'''\n",
    "\n",
    "\n",
    "'''\n",
    "we can also store the reference to the function and then use it later\n",
    "'''\n",
    "first = parent(1)\n",
    "second = parent(2)\n",
    "first()"
   ]
  },
  {
   "cell_type": "code",
   "execution_count": null,
   "metadata": {},
   "outputs": [],
   "source": [
    "# Starting off the colt steele tutorial\n",
    "'''\n",
    "1. Higher order functions\n",
    "2. Introduction to decorators\n",
    "3. Decorators with different signatures\n",
    "4. Using wraps to preserve metadata\n",
    "5. Building a speed test decorator\n",
    "6. Ensuring Args with a decorator\n",
    "7. Ensuring Argument types with a decorator\n",
    "'''"
   ]
  },
  {
   "cell_type": "code",
   "execution_count": null,
   "metadata": {},
   "outputs": [],
   "source": []
  },
  {
   "cell_type": "code",
   "execution_count": null,
   "metadata": {},
   "outputs": [],
   "source": []
  },
  {
   "cell_type": "code",
   "execution_count": null,
   "metadata": {},
   "outputs": [],
   "source": []
  },
  {
   "cell_type": "code",
   "execution_count": null,
   "metadata": {},
   "outputs": [],
   "source": []
  },
  {
   "cell_type": "code",
   "execution_count": null,
   "metadata": {},
   "outputs": [],
   "source": []
  }
 ],
 "metadata": {
  "kernelspec": {
   "display_name": "Python 3",
   "language": "python",
   "name": "python3"
  },
  "language_info": {
   "codemirror_mode": {
    "name": "ipython",
    "version": 3
   },
   "file_extension": ".py",
   "mimetype": "text/x-python",
   "name": "python",
   "nbconvert_exporter": "python",
   "pygments_lexer": "ipython3",
   "version": "3.7.3"
  }
 },
 "nbformat": 4,
 "nbformat_minor": 2
}
