{
 "cells": [
  {
   "cell_type": "code",
   "execution_count": null,
   "metadata": {},
   "outputs": [],
   "source": [
    "# boolean and conditional logic\n",
    "# -----------------------------\n",
    "\n",
    "# how to get user input in python\n",
    "# truthiness\n",
    "# how to use comparison operators \n"
   ]
  },
  {
   "cell_type": "code",
   "execution_count": 1,
   "metadata": {},
   "outputs": [
    {
     "name": "stdout",
     "output_type": "stream",
     "text": [
      "Enter your name here : mohit kalra\n",
      "mohit kalra\n"
     ]
    }
   ],
   "source": [
    "# user input\n",
    "# you can pass in the string for user prompt\n",
    "name = input(\"Enter your name here : \")\n",
    "print(name)"
   ]
  },
  {
   "cell_type": "code",
   "execution_count": 5,
   "metadata": {},
   "outputs": [
    {
     "name": "stdout",
     "output_type": "stream",
     "text": [
      "Carry On\n"
     ]
    }
   ],
   "source": [
    "# conditional statements\n",
    "\n",
    "# if-else syntax in python\n",
    "#-------------------------\n",
    "# if some condition is True:\n",
    "#     do something\n",
    "# elif some condition is True:\n",
    "#     do something\n",
    "# else: \n",
    "#     do something\n",
    "    \n",
    "# running example\n",
    "if name == \"Arya Stark\":\n",
    "    print('valar morghulis')\n",
    "elif name == \"Jon Snow\":\n",
    "    print(\"You know nothing\")\n",
    "else: \n",
    "    print(\"Carry On\")\n",
    "\n",
    "# please note that there are no {} brackets used \n",
    "# like in other languages. Python needs uses indentation\n",
    "# for understanding."
   ]
  },
  {
   "cell_type": "code",
   "execution_count": 6,
   "metadata": {},
   "outputs": [
    {
     "name": "stdout",
     "output_type": "stream",
     "text": [
      "what is your favorite colorhello\n",
      "you are a monster\n"
     ]
    }
   ],
   "source": [
    "# simple program to demonstrate that \n",
    "# you will have to have multiple elifs\n",
    "# but you can only have one if and else:\n",
    "color = input('what is your favorite color :')\n",
    "if color == 'purple':\n",
    "    print('excellent choice')\n",
    "elif color == 'teal':\n",
    "    print('not bad!')\n",
    "elif color == 'seafoam': \n",
    "    print('mediocre')\n",
    "else:\n",
    "    print('you are a monster')"
   ]
  },
  {
   "cell_type": "code",
   "execution_count": 8,
   "metadata": {},
   "outputs": [
    {
     "name": "stdout",
     "output_type": "stream",
     "text": [
      "enter your favorite programming languageC++\n",
      "C++ is my favorite programming language too\n"
     ]
    }
   ],
   "source": [
    "# a word on truthiness\n",
    "# besides false conditional checks - \n",
    "# other things that are naturally falsy include \n",
    "# 'empty objects' , 'empty strings', 'None' and zero\n",
    "\n",
    "# a quick example\n",
    "planguage = input('enter your favorite programming language')\n",
    "if planguage:\n",
    "    print(f\"{planguage} is my favorite programming language too\")\n",
    "else: \n",
    "    print('you didn\\'t say anything')"
   ]
  },
  {
   "cell_type": "code",
   "execution_count": 12,
   "metadata": {},
   "outputs": [
    {
     "name": "stdout",
     "output_type": "stream",
     "text": [
      "I am checking and operator\n"
     ]
    }
   ],
   "source": [
    "# logical operators are simple in python\n",
    "# and, or and not operator\n",
    "if True and True:\n",
    "    print('I am checking and operator')\n",
    "elif True or False:\n",
    "    print('I am checking or operator')\n",
    "elif not False:\n",
    "    print('I am checking not operator')\n",
    "else:\n",
    "    print('what are you trying to do?')"
   ]
  },
  {
   "cell_type": "code",
   "execution_count": 20,
   "metadata": {},
   "outputs": [
    {
     "name": "stdout",
     "output_type": "stream",
     "text": [
      "True\n",
      "True\n",
      "True\n",
      "False\n",
      "True\n"
     ]
    }
   ],
   "source": [
    "# is vs '=='\n",
    "a = 1\n",
    "print(a == 1)\n",
    "print(a is 1)\n",
    "\n",
    "# taking a list of numbers\n",
    "a = [1,2,3]\n",
    "b = [1,2,3]\n",
    "print(a == b)\n",
    "print(a is b) # gives false! why?\n",
    "# imp: 'is' is only truthy if the variables reference the same \n",
    "# item in the memory\n",
    "\n",
    "# demo for is\n",
    "c = b\n",
    "print(b is c) #this should print True"
   ]
  },
  {
   "cell_type": "code",
   "execution_count": null,
   "metadata": {},
   "outputs": [],
   "source": [
    "# a simple else if program\n",
    "# in python\n",
    "age = input('How old are you: ')\n",
    "if age:\n",
    "    # we'll see error handling in next \n",
    "    # tutorial\n",
    "    age = int(age)\n",
    "    if age >= 18 and age < 21:\n",
    "        print('You can enter but you need a wristband!')\n",
    "    elif age >= 21:\n",
    "        print('You are good to enter and can drink')\n",
    "    else:\n",
    "        print('You can\\'t come in, little one! :-(')\n",
    "else:\n",
    "    print('Please enter an age!');"
   ]
  }
 ],
 "metadata": {
  "kernelspec": {
   "display_name": "Python 3",
   "language": "python",
   "name": "python3"
  },
  "language_info": {
   "codemirror_mode": {
    "name": "ipython",
    "version": 3
   },
   "file_extension": ".py",
   "mimetype": "text/x-python",
   "name": "python",
   "nbconvert_exporter": "python",
   "pygments_lexer": "ipython3",
   "version": "3.7.1"
  }
 },
 "nbformat": 4,
 "nbformat_minor": 2
}
