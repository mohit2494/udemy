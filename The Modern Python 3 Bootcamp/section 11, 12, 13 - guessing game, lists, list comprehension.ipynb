{
 "cells": [
  {
   "cell_type": "code",
   "execution_count": 3,
   "metadata": {},
   "outputs": [
    {
     "name": "stdout",
     "output_type": "stream",
     "text": [
      "Player, make your move: rock\n",
      "computer plays None\n",
      "computer wins!\n",
      "please enter a valid move\n"
     ]
    }
   ],
   "source": [
    "# section 11 \n",
    "# ====================================================================\n",
    "# a simple game rock, paper and scissors game \n",
    "# written in python\n",
    "\n",
    "from random import randint\n",
    "\n",
    "# take input from player\n",
    "player = input(\"Player, make your move: \").lower()\n",
    "\n",
    "# need a random number\n",
    "rand_num = randint(0,2)\n",
    "\n",
    "# confirm what computer is playing\n",
    "computer = None\n",
    "if rand_num == 0 :\n",
    "    computer = \"rock\"\n",
    "elif rand_num == 1:\n",
    "    computer == \"paper\"\n",
    "else:\n",
    "    computer == \"scissors\"\n",
    "\n",
    "# print what computer has played\n",
    "print(f\"computer plays {computer}\")\n",
    "\n",
    "# if same, it's a tie\n",
    "if player == computer:\n",
    "    print('tie!')\n",
    "\n",
    "# lets move condition by condition\n",
    "\n",
    "# player gets rock\n",
    "if player == \"rock\":\n",
    "    if computer == \"scissors\":\n",
    "        print(\"player wins!\")\n",
    "    else:\n",
    "        print(\"computer wins!\")\n",
    "        \n",
    "# player gets paper\n",
    "if player == \"paper\":\n",
    "    if computer == \"rock\":\n",
    "        print(\"player wins!\")\n",
    "    elif computer == \"scissors\" :\n",
    "        print(\"computer wins!\")\n",
    "        \n",
    "# if nothing of this, then re-try\n",
    "else:\n",
    "    print(\"please enter a valid move\")"
   ]
  },
  {
   "cell_type": "code",
   "execution_count": 4,
   "metadata": {},
   "outputs": [],
   "source": [
    "# section 12 : LISTS\n",
    "# ====================================================================\n",
    "# What is a list? \n",
    "# A collection / grouping of items.\n",
    "# --------------------------------------------------------------------\n",
    "# Describe, create and access a list data structure\n",
    "# Use built in methods to modify and copy lists\n",
    "# Iterate over lists using loops and lists comprehensions\n",
    "# work with nested lists to build more complex data structures"
   ]
  },
  {
   "cell_type": "code",
   "execution_count": 5,
   "metadata": {},
   "outputs": [
    {
     "name": "stdout",
     "output_type": "stream",
     "text": [
      "['install python', 'learn python', 'take a break']\n"
     ]
    },
    {
     "data": {
      "text/plain": [
       "3"
      ]
     },
     "execution_count": 5,
     "metadata": {},
     "output_type": "execute_result"
    }
   ],
   "source": [
    "# creating lists\n",
    "\n",
    "first_task = \"install python\"\n",
    "second_task = \"learn python\"\n",
    "third_task = \"take a break\"\n",
    "\n",
    "tasks = [first_task, second_task, third_task]\n",
    "print(tasks)\n",
    "\n",
    "# print the items in the list\n",
    "len(tasks)"
   ]
  },
  {
   "cell_type": "code",
   "execution_count": 8,
   "metadata": {},
   "outputs": [
    {
     "name": "stdout",
     "output_type": "stream",
     "text": [
      "[1, 2, 3, 4, 5, 6, 7, 8, 9]\n",
      "[1, 2, 3, 4, 5, 6, 7, 8, 9, 10, 11, 12, 13, 14, 15, 16, 17, 18, 19, 20, 21, 22, 23, 24, 25, 26, 27, 28, 29, 30, 31, 32, 33, 34, 35, 36, 37, 38, 39, 40, 41, 42, 43, 44, 45, 46, 47, 48, 49, 50, 51, 52, 53, 54, 55, 56, 57, 58, 59, 60, 61, 62, 63, 64, 65, 66, 67, 68, 69, 70, 71, 72, 73, 74, 75, 76, 77, 78, 79, 80, 81, 82, 83, 84, 85, 86, 87, 88, 89, 90, 91, 92, 93, 94, 95, 96, 97, 98, 99]\n"
     ]
    }
   ],
   "source": [
    "# using range object with lists\n",
    "\n",
    "# this is range object, and not a list\n",
    "r = range(1,10) \n",
    "\n",
    "# a range object can be passed into a list\n",
    "my_list = list(r)\n",
    "#print(my_list)\n",
    "\n",
    "# range goes till <start_index> - (<end_index>-1\n",
    "# another example using range in python\n",
    "\n",
    "nums = []\n",
    "for num in range(1,100):\n",
    "    nums.append(num)\n",
    "#print(nums)\n",
    "\n",
    "# a simpler way to do that\n",
    "nums = list(range(1,100))\n"
   ]
  },
  {
   "cell_type": "code",
   "execution_count": 10,
   "metadata": {},
   "outputs": [
    {
     "name": "stdout",
     "output_type": "stream",
     "text": [
      "I\n",
      "up\n",
      "True\n"
     ]
    }
   ],
   "source": [
    "# accessing the data in a list\n",
    "\n",
    "# lists always start with 0\n",
    "list = ['I', 'am', 'working', 'my', 'way','up']\n",
    "\n",
    "print(list[0])  # prints first element\n",
    "print(list[-1]) # prints last element\n",
    "\n",
    "# check if value exists in list\n",
    "print(\"I\" in list)"
   ]
  },
  {
   "cell_type": "code",
   "execution_count": 13,
   "metadata": {},
   "outputs": [
    {
     "name": "stdout",
     "output_type": "stream",
     "text": [
      "1\n",
      "2\n",
      "3\n",
      "4\n",
      "1\n",
      "2\n",
      "3\n",
      "4\n",
      "0: 1\n",
      "1: 2\n",
      "2: 3\n",
      "3: 4\n"
     ]
    }
   ],
   "source": [
    "# accessing multiple items in a list\n",
    "numbers = [1,2,3,4]\n",
    "for number in numbers:\n",
    "    print(number)\n",
    "\n",
    "# using while loop\n",
    "i = 0\n",
    "while i < len(numbers):\n",
    "    print(numbers[i])\n",
    "    i += 1\n",
    "    \n",
    "# using python3 syntax\n",
    "index = 0\n",
    "while index < len(numbers):\n",
    "    print(f\"{index}: {numbers[index]}\")\n",
    "    index +=1"
   ]
  },
  {
   "cell_type": "code",
   "execution_count": 29,
   "metadata": {},
   "outputs": [
    {
     "name": "stdout",
     "output_type": "stream",
     "text": [
      "[1, 2, 3, 'purple']\n",
      "[1, 2, 3, 'purple', 5, 6, 7, 8]\n",
      "[1, 2, 'Hi', 3, 'purple', 5, 6, 7, 8]\n",
      "[1, 2, 'Hi', 3, 'purple', 5, 6, 7, 8, 'There']\n",
      "[1, 2, 'Hi', 3, 'purple', 5, 6, 7, 8, 'How', 'There']\n"
     ]
    }
   ],
   "source": [
    "# append, insert and extend\n",
    "data = [1,2,3]\n",
    "\n",
    "# append - adds item to the end of the list\n",
    "data.append(\"purple\")\n",
    "print(data)\n",
    "\n",
    "# append takes in only 1 argument\n",
    "# while extend takes in a list of values\n",
    "\n",
    "# the following statement throws an error\n",
    "# we cannot pass a list of values in the append function\n",
    "# data.append(5,6,7,8)\n",
    "# print(data)\n",
    "\n",
    "# using extend\n",
    "data.extend([5,6,7,8])\n",
    "print(data)\n",
    "\n",
    "# insert at a given position\n",
    "# remember the position starts at 0\n",
    "# and ends at len(list) -1\n",
    "data.insert(2, 'Hi')\n",
    "print(data)\n",
    "\n",
    "# insert from the end\n",
    "# makes it look the same as append\n",
    "data.insert(len(data), 'There')\n",
    "print(data)\n",
    "\n",
    "# insert at second last position\n",
    "data.insert(-1, 'How')\n",
    "print(data)"
   ]
  },
  {
   "cell_type": "code",
   "execution_count": 39,
   "metadata": {},
   "outputs": [
    {
     "name": "stdout",
     "output_type": "stream",
     "text": [
      "[]\n"
     ]
    }
   ],
   "source": [
    "# removing items from the list\n",
    "removing_list = [1, 2, 3, 4]\n",
    "\n",
    "# on an interesting note, I found that \n",
    "# python was assigning list by reference\n",
    "temp_list = removing_list\n",
    "removing_list.clear()\n",
    "print(temp_list)"
   ]
  },
  {
   "cell_type": "code",
   "execution_count": 44,
   "metadata": {},
   "outputs": [
    {
     "name": "stdout",
     "output_type": "stream",
     "text": [
      "list\n",
      "['I', 'am', 'part', 'of', 'a', 'popping']\n",
      "I\n",
      "['am', 'part', 'of', 'a', 'popping']\n",
      "['am', 'of', 'a', 'popping']\n"
     ]
    }
   ],
   "source": [
    "# remove items one by one using : pop()\n",
    "# if you don't pass an argument, then it removes\n",
    "# the last element by default\n",
    "popping_list = [\"I\", \"am\", \"part\",\"of\",\"a\",\"popping\",\"list\"]\n",
    "\n",
    "# removes last element by default - opposite of append\n",
    "print(popping_list.pop())\n",
    "print(popping_list)\n",
    "\n",
    "# remove the first element from the list - opposite of insert\n",
    "print(popping_list.pop(0))\n",
    "print(popping_list)\n",
    "\n",
    "# function name - remove()\n",
    "# remove the first item from the list whose value is specified\n",
    "# throws a value error if the item is not found\n",
    "popping_list.remove(\"part\")\n",
    "print(popping_list)"
   ]
  },
  {
   "cell_type": "code",
   "execution_count": 52,
   "metadata": {},
   "outputs": [
    {
     "name": "stdout",
     "output_type": "stream",
     "text": [
      "[4, 3, 2, 1]\n",
      "[1, 2, 4, 5, 6]\n"
     ]
    },
    {
     "data": {
      "text/plain": [
       "'Coding is Fun!'"
      ]
     },
     "execution_count": 52,
     "metadata": {},
     "output_type": "execute_result"
    }
   ],
   "source": [
    "# over to the next set of functions\n",
    "# Index, Count, Sort, Reverse and Join\n",
    "\n",
    "# index returns the index of the specified\n",
    "# item in the list\n",
    "numbers = [5, 6, 7, 8, 9, 10]\n",
    "numbers.index(6)\n",
    "numbers.index(9)\n",
    "\n",
    "# other formats of using index\n",
    "next_set_of_numbers = [5, 5, 6, 7, 5, 8, 8, 9, 10]\n",
    "next_set_of_numbers.index(5) # 0 \n",
    "next_set_of_numbers.index(5, 1) # 1 - find 5 starting from 1st position\n",
    "next_set_of_numbers.index(5,2) # 4\n",
    "\n",
    "# we are looking for 8 b/w the indexes of 6 and 8\n",
    "next_set_of_numbers.index(8, 6, 8)\n",
    "\n",
    "# count - returns the number of times x appears in the list\n",
    "next_set_of_numbers.count(8)\n",
    "\n",
    "# reverse - updates the list you are calling the method on!\n",
    "list_for_reversal = [1, 2, 3, 4]\n",
    "list_for_reversal.reverse()\n",
    "print(list_for_reversal)\n",
    "\n",
    "# sort the list\n",
    "list_for_sorting = [6, 4, 1, 2, 5]\n",
    "list_for_sorting.sort()\n",
    "print(list_for_sorting)\n",
    "\n",
    "# join - really useful in converting lists to string\n",
    "# the string on which the join method is called on \n",
    "# will be used to delimit\n",
    "words = ['Coding','is','Fun!']\n",
    "' '.join(words)\n",
    "# 'Coding is Fun!'\n",
    "\n",
    "# more information about join\n",
    "# technicall a string method that takes an iterable argument\n",
    "# concatenates a copy of the base string between each item of\n",
    "# the iterable. \n",
    "# returns a new string\n",
    "# can be used to make sentences out of a list of words by joining\n",
    "# on a space, for instance.\n"
   ]
  },
  {
   "cell_type": "code",
   "execution_count": 56,
   "metadata": {},
   "outputs": [
    {
     "name": "stdout",
     "output_type": "stream",
     "text": [
      "[1, 2, 3, 4]\n"
     ]
    },
    {
     "data": {
      "text/plain": [
       "[2, 3]"
      ]
     },
     "execution_count": 56,
     "metadata": {},
     "output_type": "execute_result"
    }
   ],
   "source": [
    "# Slicing in Python\n",
    "# To slice is to make a new list using an older list\n",
    "# some_list[start:end:step]\n",
    "first_list = [1, 2, 3, 4]\n",
    "first_list[1:] # [2,3,4] - start from 2nd position till last\n",
    "first_list[3:] # [4] - start from last position till last\n",
    "\n",
    "# using negative indexes for slicing from the end\n",
    "first_list[-1:] # [4]\n",
    "first_list[-3:] # [2, 3, 4]\n",
    "\n",
    "# a shortcut of copying a list into another list\n",
    "second_list = first_list[:]\n",
    "print(second_list)\n",
    "\n",
    "# second parameter for Slice:end\n",
    "# The index to copy up to(exclusive counting)\n",
    "first_list[:2]  # [1, 2]\n",
    "first_list[:4]  # [1, 2, 3, 4]\n",
    "first_list[1:3] # [2, 3]\n",
    "\n",
    "# with negative numbers, how many items to exclude\n",
    "# from the end (i.e. indexing by counting backwards)\n",
    "first_list[:-1]  # [1, 2, 3]\n",
    "first_list[1:-1] # [2, 3]"
   ]
  },
  {
   "cell_type": "code",
   "execution_count": 64,
   "metadata": {},
   "outputs": [
    {
     "name": "stdout",
     "output_type": "stream",
     "text": [
      "[2, 4, 6]\n",
      "[1, 3, 5]\n",
      "[1, 'a', 'b', 'c', 4, 5]\n"
     ]
    },
    {
     "data": {
      "text/plain": [
       "'ogidni'"
      ]
     },
     "execution_count": 64,
     "metadata": {},
     "output_type": "execute_result"
    }
   ],
   "source": [
    "# Third Parameter for Slice : step\n",
    "#  'step' in Python is basically the number to count\n",
    "# at a time same as step with range!\n",
    "# for example, a step of 2 counts every other number(1,3,5)\n",
    "list_for_step = [1, 2, 3, 4, 5, 6]\n",
    "print(list_for_step[1::2]) # [2, 4, 6]\n",
    "print(list_for_step[::2]) # [1, 3, 5]\n",
    "\n",
    "# Tricks with slices\n",
    "\n",
    "# reversing lists / strings\n",
    "string = 'This is fun!'\n",
    "string[::-1]\n",
    "\n",
    "# Modifying portions of lists\n",
    "numbers = [1, 2, 3, 4, 5]\n",
    "numbers[1:3] = ['a', 'b', 'c']\n",
    "print(numbers)\n",
    "\n",
    "# accessing value at index and reversing it\n",
    "colors = ['red', 'orange', 'yellow', 'green', 'blue', 'indigo']\n",
    "colors[5][::-1]"
   ]
  },
  {
   "cell_type": "code",
   "execution_count": 65,
   "metadata": {},
   "outputs": [
    {
     "name": "stdout",
     "output_type": "stream",
     "text": [
      "['Michelle', 'James']\n"
     ]
    }
   ],
   "source": [
    "# swapping values\n",
    "names = [\"James\", \"Michelle\"]\n",
    "names[0], names[1] = names[1], names[0]\n",
    "print(names)"
   ]
  },
  {
   "cell_type": "code",
   "execution_count": 6,
   "metadata": {},
   "outputs": [
    {
     "name": "stdout",
     "output_type": "stream",
     "text": [
      "[10, 20, 30]\n",
      "['M', 'O', 'H', 'I', 'T']\n",
      "['J', 'S', 'D']\n",
      "[False, False, False]\n",
      "['1', '2', '3', '4', '5', '6']\n"
     ]
    }
   ],
   "source": [
    "# List comprehension\n",
    "# ---------------------------------------------------------------------\n",
    "# What does it do ?\n",
    "# -----------------\n",
    "# It consists of brackets containing an expression followed by a for clause, then\n",
    "# zero or more for or if clauses. The expressions can be anything, meaning you can\n",
    "# put in all kinds of objects in lists.\n",
    "\n",
    "# The result will be a new list resulting from evaluating the expression in the\n",
    "# context of the for and if clauses which follow it. \n",
    "\n",
    "# The list comprehension always returns a result list.\n",
    "\n",
    "\n",
    "# simple example\n",
    "nums = [1, 2, 3]\n",
    "\n",
    "# simple list comprehenion example\n",
    "new_list = [x*10 for x in nums]\n",
    "print(new_list)\n",
    "\n",
    "# example\n",
    "name = 'mohit'\n",
    "print([char.upper() for char in name])\n",
    "\n",
    "# get capital letter\n",
    "friends = ['jeevan', 'sathya', 'dwayne']\n",
    "print([friend[0].upper() for friend in friends])\n",
    "\n",
    "# test truthy and falsy value through following\n",
    "print([bool(val) for val in [0,[],'']])\n",
    "\n",
    "# cast list of numbers into string\n",
    "numbers = [1, 2, 3, 4, 5, 6]\n",
    "string_list = [str(num) for num in numbers]\n",
    "print(string_list)"
   ]
  },
  {
   "cell_type": "code",
   "execution_count": 14,
   "metadata": {},
   "outputs": [
    {
     "name": "stdout",
     "output_type": "stream",
     "text": [
      "[2, 4, 6]\n",
      "[1, 3, 5]\n",
      "[0.5, 4, 1.5, 8, 2.5, 12]\n"
     ]
    },
    {
     "data": {
      "text/plain": [
       "'T h s   s   s   m c h   f n !'"
      ]
     },
     "execution_count": 14,
     "metadata": {},
     "output_type": "execute_result"
    }
   ],
   "source": [
    "# list comprehension with conditional logic\n",
    "# remember how if is after 'in' and 'for'\n",
    "\n",
    "numbers = [1, 2, 3, 4, 5, 6]\n",
    "evens = [num for num in numbers if num%2 ==0 ]\n",
    "odds = [num for num in numbers if num%2 !=0 ]\n",
    "\n",
    "print(evens)\n",
    "print(odds)\n",
    "\n",
    "# doing this in one comprehension\n",
    "print([num*2 if num%2 == 0 else num/2 for num in numbers])\n",
    "\n",
    "# another example using chars\n",
    "with_wovels = \"This is so much fun!\"\n",
    "\n",
    "# I want only the consonants in the above sentence \n",
    "# separated by space\n",
    "' '.join(char for char in with_wovels if char not in 'aeiou')"
   ]
  },
  {
   "cell_type": "code",
   "execution_count": 16,
   "metadata": {},
   "outputs": [
    {
     "name": "stdout",
     "output_type": "stream",
     "text": [
      "1\n",
      "2\n",
      "3\n",
      "4\n",
      "5\n",
      "6\n",
      "7\n",
      "8\n",
      "9\n"
     ]
    },
    {
     "data": {
      "text/plain": [
       "[[None, None, None], [None, None, None], [None, None, None]]"
      ]
     },
     "execution_count": 16,
     "metadata": {},
     "output_type": "execute_result"
    }
   ],
   "source": [
    "# Nested Lists\n",
    "# multi-dimensional lists\n",
    " \n",
    "# Lists can contain any kind of element, even other lists!\n",
    "nested_list = [[1, 2, 3], [4, 5, 6] , [7, 8, 9]]\n",
    "[[print(val) for val in l] for l in nested_list]"
   ]
  },
  {
   "cell_type": "code",
   "execution_count": 19,
   "metadata": {},
   "outputs": [
    {
     "name": "stdout",
     "output_type": "stream",
     "text": [
      "[[1, 2, 3], [1, 2, 3], [1, 2, 3]]\n"
     ]
    },
    {
     "data": {
      "text/plain": [
       "[['X', 'O', 'X'], ['X', 'O', 'X'], ['X', 'O', 'X']]"
      ]
     },
     "execution_count": 19,
     "metadata": {},
     "output_type": "execute_result"
    }
   ],
   "source": [
    "# another example\n",
    "board = [[num for num in range(1,4)] for val in range(1,4)]\n",
    "print(board) # [[1, 2, 3], [1, 2, 3], [1, 2, 3]]\n",
    "\n",
    "[[\"X\" if num%2 != 0 else \"O\" for num in range(1,4)] for val in range(1,4)]"
   ]
  },
  {
   "cell_type": "code",
   "execution_count": null,
   "metadata": {},
   "outputs": [],
   "source": []
  }
 ],
 "metadata": {
  "kernelspec": {
   "display_name": "Python 3",
   "language": "python",
   "name": "python3"
  },
  "language_info": {
   "codemirror_mode": {
    "name": "ipython",
    "version": 3
   },
   "file_extension": ".py",
   "mimetype": "text/x-python",
   "name": "python",
   "nbconvert_exporter": "python",
   "pygments_lexer": "ipython3",
   "version": "3.6.5"
  }
 },
 "nbformat": 4,
 "nbformat_minor": 2
}
