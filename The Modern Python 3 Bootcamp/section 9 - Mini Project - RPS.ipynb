{
 "cells": [
  {
   "cell_type": "code",
   "execution_count": 7,
   "metadata": {},
   "outputs": [
    {
     "name": "stdin",
     "output_type": "stream",
     "text": [
      "Player, make your move:  scissors\n"
     ]
    },
    {
     "name": "stdout",
     "output_type": "stream",
     "text": [
      "Computer plays paper\n",
      "player wins!\n"
     ]
    }
   ],
   "source": [
    "player = input(\"Player, make your move: \").lower()\n",
    "rand_num = randint(0,2)\n",
    "if rand_num == 0:\n",
    "\tcomputer = \"rock\"\n",
    "elif rand_num == 1:\n",
    "\tcomputer = \"paper\"\n",
    "else:\n",
    "\tcomputer = \"scissors\"\n",
    "\n",
    "print(f\"Computer plays {computer}\" )\n",
    "\n",
    "if player == computer:\n",
    "\tprint(\"It's a tie!\")\n",
    "elif player == \"rock\":\n",
    "\tif computer == \"scissors\":\n",
    "\t\tprint(\"player wins!\")\n",
    "\telse:\n",
    "\t\tprint(\"computer wins!\")\n",
    "elif player == \"paper\":\n",
    "\tif computer == \"rock\":\n",
    "\t\tprint(\"player wins!\")\n",
    "\telse:\n",
    "\t\tprint(\"computer wins!\")\n",
    "elif player == \"scissors\":\n",
    "\tif computer == \"paper\":\n",
    "\t\tprint(\"player wins!\")\n",
    "\telse:\n",
    "\t\tprint(\"computer wins!\")\t\n",
    "else:\n",
    "\tprint(\"Please enter a valid move!\")\n",
    "    "
   ]
  }
 ],
 "metadata": {
  "kernelspec": {
   "display_name": "Python 3",
   "language": "python",
   "name": "python3"
  },
  "language_info": {
   "name": ""
  }
 },
 "nbformat": 4,
 "nbformat_minor": 2
}
